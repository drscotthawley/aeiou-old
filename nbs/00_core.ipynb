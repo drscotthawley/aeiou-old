{
 "cells": [
  {
   "cell_type": "code",
   "execution_count": null,
   "metadata": {},
   "outputs": [],
   "source": [
    "# default_exp core"
   ]
  },
  {
   "cell_type": "markdown",
   "metadata": {},
   "source": [
    "# core\n",
    "\n",
    "> Core routines for shazbot"
   ]
  },
  {
   "cell_type": "code",
   "execution_count": null,
   "metadata": {},
   "outputs": [],
   "source": [
    "#hide\n",
    "from nbdev.showdoc import *"
   ]
  },
  {
   "cell_type": "code",
   "execution_count": null,
   "metadata": {},
   "outputs": [],
   "source": [
    "#export \n",
    "import torch \n",
    "import accelerate\n",
    "import tqdm"
   ]
  },
  {
   "cell_type": "markdown",
   "metadata": {},
   "source": [
    "## Audio utils"
   ]
  },
  {
   "cell_type": "code",
   "execution_count": null,
   "metadata": {},
   "outputs": [],
   "source": [
    "#export\n",
    "def is_silence(\n",
    "    audio,       # torch tensor of multichannel audio\n",
    "    thresh=-70,  # threshold in dB below which we declare to be silence\n",
    "    ):\n",
    "    \"checks if entire clip is 'silence' below some dB threshold\"\n",
    "    dBmax = 20*torch.log10(torch.flatten(audio.abs()).max()).cpu().numpy()\n",
    "    return dBmax < thresh"
   ]
  },
  {
   "cell_type": "code",
   "execution_count": null,
   "metadata": {},
   "outputs": [],
   "source": [
    "# code tests\n",
    "import torch \n",
    "\n",
    "x = torch.ones((2,10))\n",
    "assert not is_silence(1e-3*x) # not silent\n",
    "assert is_silence(1e-5*x) # silent\n",
    "assert is_silence(1e-3*x, thresh=-50) # higher thresh"
   ]
  },
  {
   "cell_type": "markdown",
   "metadata": {},
   "source": [
    "## Parallelism utils"
   ]
  },
  {
   "cell_type": "code",
   "execution_count": null,
   "metadata": {},
   "outputs": [],
   "source": [
    "#|export        \n",
    "class HostPrinter():\n",
    "    \"lil accelerate utility for only printing on host node\"\n",
    "    def __init__(self, accelerator):\n",
    "        self.accelerator = accelerator\n",
    "    def __call__(self, s:str):\n",
    "        if self.accelerator.is_main_process:\n",
    "            print(s, flush=True)"
   ]
  },
  {
   "cell_type": "code",
   "execution_count": null,
   "metadata": {},
   "outputs": [
    {
     "name": "stdout",
     "output_type": "stream",
     "text": [
      "Using device: cuda\n"
     ]
    }
   ],
   "source": [
    "#test hostprinter\n",
    "accelerator = accelerate.Accelerator()\n",
    "device = accelerator.device\n",
    "hprint = HostPrinter(accelerator)\n",
    "hprint(f'Using device: {device}')"
   ]
  },
  {
   "cell_type": "markdown",
   "metadata": {},
   "source": [
    "## Utils for PyTorch models"
   ]
  },
  {
   "cell_type": "code",
   "execution_count": null,
   "metadata": {},
   "outputs": [],
   "source": [
    "#|export \n",
    "def save(accelerator, args, model, opt=None, epoch=None, step=None):\n",
    "    \"for checkpointing & model saves\"\n",
    "    accelerator.wait_for_everyone()\n",
    "    filename = f'{args.name}_{step:08}.pth' if (step is not None) else f'{args.name}.pth'\n",
    "    if accelerator.is_main_process:\n",
    "        tqdm.write(f'Saving to {filename}...')\n",
    "    obj = {'model': accelerator.unwrap_model(model).state_dict() }\n",
    "    if opt is not None:   obj['opt'] = opt.state_dict()\n",
    "    if epoch is not None: obj['epoch'] = epoch\n",
    "    if step is not None:  obj['step'] = step\n",
    "    accelerator.save(obj, filename)\n",
    "    \n",
    "\n",
    "def n_params(module):\n",
    "    \"\"\"Returns the number of trainable parameters in a module.\"\"\"\n",
    "    return sum(p.numel() for p in module.parameters())\n",
    "\n",
    "\n",
    "def freeze(model):\n",
    "    \"freezes model weights; turns off gradient info \"\n",
    "    for param in model.parameters():  \n",
    "        param.requires_grad = False"
   ]
  },
  {
   "cell_type": "code",
   "execution_count": null,
   "metadata": {},
   "outputs": [],
   "source": []
  }
 ],
 "metadata": {
  "kernelspec": {
   "display_name": "Python 3 (ipykernel)",
   "language": "python",
   "name": "python3"
  }
 },
 "nbformat": 4,
 "nbformat_minor": 2
}
