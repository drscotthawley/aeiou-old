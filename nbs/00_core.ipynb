{
 "cells": [
  {
   "cell_type": "code",
   "execution_count": null,
   "metadata": {},
   "outputs": [],
   "source": [
    "# default_exp core"
   ]
  },
  {
   "cell_type": "markdown",
   "metadata": {},
   "source": [
    "# core\n",
    "\n",
    "> Core routines for shazbot"
   ]
  },
  {
   "cell_type": "code",
   "execution_count": null,
   "metadata": {},
   "outputs": [],
   "source": [
    "#hide\n",
    "from nbdev.showdoc import *"
   ]
  },
  {
   "cell_type": "code",
   "execution_count": null,
   "metadata": {},
   "outputs": [],
   "source": [
    "#export \n",
    "import torch \n",
    "\n",
    "def is_silence(\n",
    "    audio,       # torch tensor of multichannel audio\n",
    "    thresh=-70,  # threshold in dB below which we declare to be silence\n",
    "    ):\n",
    "    \"checks if entire clip is 'silence' below some dB threshold\"\n",
    "    dBmax = 20*torch.log10(torch.flatten(audio.abs()).max()).cpu().numpy()\n",
    "    return dBmax < thresh"
   ]
  },
  {
   "cell_type": "code",
   "execution_count": null,
   "metadata": {},
   "outputs": [],
   "source": [
    "# code tests\n",
    "import torch \n",
    "\n",
    "x = torch.ones((2,10))\n",
    "assert not is_silence(1e-3*x) # not silent\n",
    "assert is_silence(1e-5*x) # silent\n",
    "assert is_silence(1e-3*x, thresh=-50) # higher thresh"
   ]
  },
  {
   "cell_type": "code",
   "execution_count": null,
   "metadata": {},
   "outputs": [],
   "source": []
  }
 ],
 "metadata": {
  "kernelspec": {
   "display_name": "Python 3 (ipykernel)",
   "language": "python",
   "name": "python3"
  }
 },
 "nbformat": 4,
 "nbformat_minor": 2
}
