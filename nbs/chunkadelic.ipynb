{
 "cells": [
  {
   "cell_type": "code",
   "execution_count": null,
   "id": "31c10953",
   "metadata": {},
   "outputs": [],
   "source": [
    "# default_exp chunkadelic"
   ]
  },
  {
   "cell_type": "markdown",
   "id": "9bdbfbbf",
   "metadata": {},
   "source": [
    "# chunkadelic\n",
    "> Preprocesses a dataset of disparate-sized audio files into entirely uniform chunks\n",
    "\n",
    "Creates a copy of the filesystem referenced by input paths\n"
   ]
  },
  {
   "cell_type": "code",
   "execution_count": null,
   "id": "c15fbb7c",
   "metadata": {},
   "outputs": [],
   "source": [
    "#all_slow"
   ]
  },
  {
   "cell_type": "code",
   "execution_count": null,
   "id": "c554e575",
   "metadata": {},
   "outputs": [],
   "source": [
    "#hide\n",
    "#export\n",
    "import argparse \n",
    "from glob import glob \n",
    "import os \n",
    "from multiprocessing import Pool, cpu_count, Barrier\n",
    "from functools import partial\n",
    "from tqdm.contrib.concurrent import process_map  \n",
    "import torch\n",
    "import torchaudio\n",
    "from torchaudio import transforms as T\n",
    "import math"
   ]
  },
  {
   "cell_type": "code",
   "execution_count": null,
   "id": "9348e579",
   "metadata": {},
   "outputs": [],
   "source": [
    "#export\n",
    "def load_file(filename, sr=48000):\n",
    "    audio, in_sr = torchaudio.load(filename)\n",
    "    if in_sr != sr:\n",
    "        print(f\"Resampling {filename} from {in_sr} Hz to {sr} Hz\")\n",
    "        resample_tf = T.Resample(in_sr, sr)\n",
    "        audio = resample_tf(audio)\n",
    "    return audio\n",
    "\n",
    "\n",
    "def makedir(path):\n",
    "    if os.path.isdir(path): return  # don't make it if it already exists\n",
    "    #print(f\"  Making directory {path}\")\n",
    "    try:\n",
    "        os.makedirs(path)  # recursively make all dirs named in path\n",
    "    except:                # don't really care about errors\n",
    "        pass\n",
    "\n",
    "\n",
    "def blow_chunks(audio, new_filename, chunk_size, sr=48000, overlap=0.5):\n",
    "    \"chunks up the audio and saves them with --{i} on the end of each chunk filename\"\n",
    "    chunk = torch.zeros(audio.shape[0], chunk_size)\n",
    "    _, ext = os.path.splitext(new_filename)\n",
    "\n",
    "    start, i = 0, 0\n",
    "    while start < audio.shape[-1]:\n",
    "        out_filename = new_filename.replace(ext, f'--{i}'+ext) \n",
    "        end = min(start + chunk_size, audio.shape[-1])\n",
    "        if end-start < chunk_size:  # needs zero padding on end\n",
    "            chunk = torch.zeros(audio.shape[0], chunk_size)\n",
    "        chunk[:,0:end-start] = audio[:,start:end]\n",
    "        torchaudio.save(out_filename, chunk, sr)\n",
    "        start, i = start + int(overlap * chunk_size), i + 1\n",
    "\n",
    "    return \n",
    "\n",
    "\n",
    "def process_one_file(filenames, args, file_ind):\n",
    "    \"this chunks up one file\"\n",
    "    filename = filenames[file_ind]  # this is actually input_path+/+filename\n",
    "    chunk_size, sr, overlap, output_path, input_paths = args.chunk_size, args.sr, args.overlap, args.output_path, args.input_paths\n",
    "    new_filename = None\n",
    "    \n",
    "    for ipath in input_paths: # set up the output filename & any folders it needs\n",
    "        if ipath in filename:\n",
    "            last_ipath = ipath.split('/')[-1]           # get the last part of ipath\n",
    "            clean_filename = filename.replace(ipath,'') # remove all of ipath from the front of filename\n",
    "            new_filename = f\"{output_path}/{last_ipath}/{clean_filename}\".replace('//','/') \n",
    "            makedir(os.path.dirname(new_filename))      # we might need to make a directory for the output file\n",
    "            break\n",
    "    \n",
    "    if new_filename is None:\n",
    "        print(f\"ERROR: Something went wrong with input file {filename}\") \n",
    "        return \n",
    "    try:\n",
    "        audio = load_file(filename, sr=sr)\n",
    "        blow_chunks(audio, new_filename, chunk_size, sr=sr, overlap=overlap)\n",
    "    except:\n",
    "        pass\n",
    "    return"
   ]
  },
  {
   "cell_type": "code",
   "execution_count": null,
   "id": "0dee1399",
   "metadata": {},
   "outputs": [],
   "source": [
    "#export\n",
    "def main():\n",
    "    parser = argparse.ArgumentParser(formatter_class=argparse.ArgumentDefaultsHelpFormatter)\n",
    "    parser.add_argument('--chunk_size', type=int, default=2**17, help='Length of chunks')\n",
    "    parser.add_argument('--sr', type=int, default=48000, help='Output sample rate')\n",
    "    parser.add_argument('--overlap', type=float, default=0.5, help='Overlap factor')\n",
    "    parser.add_argument('output_path', help='Path of output for chunkified data')\n",
    "    parser.add_argument('input_paths', nargs='+', help='Path(s) of a file or a folder of files. (recursive)')\n",
    "    args = parser.parse_args()\n",
    "\n",
    "    print(f\"  output_path = {args.output_path}\")\n",
    "    print(f\"  chunk_size = {args.chunk_size}\")\n",
    "\n",
    "    print(\"Getting list of input filenames\")\n",
    "    filenames = []\n",
    "    for path in args.input_paths:\n",
    "        for ext in ['wav','flac','ogg','aiff','aif','mp3']:\n",
    "            filenames += glob(f'{path}/**/*.{ext}', recursive=True)  \n",
    "    n = len(filenames)   \n",
    "    print(f\"  Got {n} input filenames\") \n",
    "\n",
    "    print(\"Processing files (in parallel)\")\n",
    "    wrapper = partial(process_one_file, filenames, args)\n",
    "    r = process_map(wrapper, range(0, n), chunksize=1, max_workers=48)  # different chunksize used by tqdm. max_workers is to avoid annoying other ppl\n",
    "\n",
    "    print(\"Finished\")"
   ]
  },
  {
   "cell_type": "code",
   "execution_count": null,
   "id": "6e8dd706",
   "metadata": {},
   "outputs": [
    {
     "name": "stderr",
     "output_type": "stream",
     "text": [
      "usage: ipykernel_launcher.py [-h] [--chunk_size CHUNK_SIZE] [--sr SR]\n",
      "                             [--overlap OVERLAP]\n",
      "                             output_path input_paths [input_paths ...]\n",
      "ipykernel_launcher.py: error: the following arguments are required: input_paths\n"
     ]
    },
    {
     "ename": "SystemExit",
     "evalue": "2",
     "output_type": "error",
     "traceback": [
      "An exception has occurred, use %tb to see the full traceback.\n",
      "\u001b[0;31mSystemExit\u001b[0m\u001b[0;31m:\u001b[0m 2\n"
     ]
    },
    {
     "name": "stderr",
     "output_type": "stream",
     "text": [
      "/home/shawley/envs/shazbot/lib/python3.10/site-packages/IPython/core/interactiveshell.py:3406: UserWarning: To exit: use 'exit', 'quit', or Ctrl-D.\n",
      "  warn(\"To exit: use 'exit', 'quit', or Ctrl-D.\", stacklevel=1)\n"
     ]
    }
   ],
   "source": [
    "#export\n",
    "if __name__ == \"__main__\":\n",
    "    main()"
   ]
  },
  {
   "cell_type": "code",
   "execution_count": null,
   "id": "12465a53",
   "metadata": {},
   "outputs": [],
   "source": []
  }
 ],
 "metadata": {
  "kernelspec": {
   "display_name": "Python 3 (ipykernel)",
   "language": "python",
   "name": "python3"
  }
 },
 "nbformat": 4,
 "nbformat_minor": 5
}
