{
 "cells": [
  {
   "cell_type": "code",
   "execution_count": null,
   "metadata": {},
   "outputs": [],
   "source": [
    "# default_exp core"
   ]
  },
  {
   "cell_type": "markdown",
   "metadata": {},
   "source": [
    "# core\n",
    "\n",
    "> Core routines"
   ]
  },
  {
   "cell_type": "code",
   "execution_count": null,
   "metadata": {},
   "outputs": [],
   "source": [
    "#hide\n",
    "from nbdev.showdoc import *"
   ]
  },
  {
   "cell_type": "code",
   "execution_count": null,
   "metadata": {},
   "outputs": [],
   "source": [
    "#export \n",
    "import torch\n",
    "import torch.nn as nn\n",
    "import torch.nn.functional  as F \n",
    "import torchaudio\n",
    "from torchaudio import transforms as T\n",
    "import tqdm\n",
    "from pathlib import Path\n",
    "import yaml\n",
    "import os"
   ]
  },
  {
   "cell_type": "markdown",
   "metadata": {},
   "source": [
    "## Audio utils"
   ]
  },
  {
   "cell_type": "code",
   "execution_count": null,
   "metadata": {},
   "outputs": [],
   "source": [
    "#export\n",
    "def is_silence(\n",
    "    audio,       # torch tensor of multichannel audio\n",
    "    thresh=-70,  # threshold in dB below which we declare to be silence\n",
    "    ):\n",
    "    \"checks if entire clip is 'silence' below some dB threshold\"\n",
    "    dBmax = 20*torch.log10(torch.flatten(audio.abs()).max()).cpu().numpy()\n",
    "    return dBmax < thresh"
   ]
  },
  {
   "cell_type": "code",
   "execution_count": null,
   "metadata": {},
   "outputs": [],
   "source": [
    "# code tests\n",
    "x = torch.ones((2,10))\n",
    "assert not is_silence(1e-3*x) # not silent\n",
    "assert is_silence(1e-5*x) # silent\n",
    "assert is_silence(1e-3*x, thresh=-50) # higher thresh"
   ]
  },
  {
   "cell_type": "code",
   "execution_count": null,
   "metadata": {},
   "outputs": [],
   "source": [
    "#|export\n",
    "def load_audio(\n",
    "    filename:str,     # file to load\n",
    "    sr=48000,         # sample rate to read/resample at \n",
    "    )->torch.tensor:\n",
    "    \"this loads an audio file as a torch tensor\"\n",
    "    audio, in_sr = torchaudio.load(filename)\n",
    "    if in_sr != sr:\n",
    "        print(f\"Resampling {filename} from {in_sr} Hz to {sr} Hz\",flush=True)\n",
    "        resample_tf = T.Resample(in_sr, sr)\n",
    "        audio = resample_tf(audio)\n",
    "    return audio"
   ]
  },
  {
   "cell_type": "code",
   "execution_count": null,
   "metadata": {},
   "outputs": [],
   "source": [
    "#|export\n",
    "def makedir(\n",
    "    path:str,          # directory or nested directory\n",
    "    ):\n",
    "    \"creates directories where they don't exist\"\n",
    "    if os.path.isdir(path): return  # don't make it if it already exists\n",
    "    #print(f\"  Making directory {path}\")\n",
    "    try:\n",
    "        os.makedirs(path)  # recursively make all dirs named in path\n",
    "    except:                # don't really care about errors\n",
    "        pass"
   ]
  },
  {
   "cell_type": "code",
   "execution_count": null,
   "metadata": {},
   "outputs": [],
   "source": []
  }
 ],
 "metadata": {
  "kernelspec": {
   "display_name": "Python 3 (ipykernel)",
   "language": "python",
   "name": "python3"
  }
 },
 "nbformat": 4,
 "nbformat_minor": 2
}
