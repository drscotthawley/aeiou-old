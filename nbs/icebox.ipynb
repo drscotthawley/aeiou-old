{
 "cells": [
  {
   "cell_type": "code",
   "execution_count": null,
   "id": "bc33d664",
   "metadata": {},
   "outputs": [],
   "source": [
    "# default_exp icebox"
   ]
  },
  {
   "cell_type": "markdown",
   "id": "a963eebd",
   "metadata": {},
   "source": [
    "# icebox\n",
    "> Routines for working with frozen jukebox embeddings\n",
    "\n",
    "Combination of TagBox repo by Ethan Manilow et al plus additions/modifications by Scott Hawley.\n",
    "\n",
    "This can be used as a library to be called from elsewhere, or as its own standalone script (mostly for testing and evaluation). "
   ]
  },
  {
   "cell_type": "code",
   "execution_count": null,
   "id": "f2ba33ca",
   "metadata": {},
   "outputs": [],
   "source": [
    "#export \n",
    "from torch import nn \n",
    "import torch.distributed as dist\n",
    "from jukebox.make_models import make_vqvae, make_prior, MODELS, make_model\n",
    "from jukebox.hparams import Hyperparams, setup_hparams\n",
    "import os\n",
    "import accelerate\n",
    "from shazbot.core import get_accel_config"
   ]
  },
  {
   "cell_type": "markdown",
   "id": "1866ac21",
   "metadata": {},
   "source": [
    "## TagBox utils\n",
    "\n",
    "Utilities from Ethan Manilows's TagBox: https://github.com/ethman/tagbox, slightly modified by Scott H. Hawley @drscotthawley\n"
   ]
  },
  {
   "cell_type": "code",
   "execution_count": null,
   "id": "ffca9e64",
   "metadata": {},
   "outputs": [],
   "source": [
    "#export \n",
    "\n",
    "#JUKEBOX_SAMPLE_RATE = 44100  # ethan's original\n",
    "JUKEBOX_SAMPLE_RATE = None\n",
    "\n",
    "def init_jukebox_sample_rate(\n",
    "    sr=44100  # sample rate in Hz. OpenAI's pretrained Jukebox weights are for 44100\n",
    "    ): \n",
    "    \"SHH added this util to preserve rest of code minimall-modified\"\n",
    "    global JUKEBOX_SAMPLE_RATE\n",
    "    JUKEBOX_SAMPLE_RATE = sr\n",
    "    return\n",
    "\n",
    "def audio_for_jbx(audio, trunc_sec=None, device=None):\n",
    "    \"\"\"Readies an audio TENSOR for Jukebox.\"\"\"\n",
    "    if audio.ndim == 1:\n",
    "        audio = audio[None]\n",
    "        audio = audio.mean(axis=0)\n",
    "\n",
    "    # normalize audio\n",
    "    norm_factor = torch.abs(audio).max()\n",
    "    if norm_factor > 0:\n",
    "        audio /= norm_factor\n",
    "\n",
    "    if trunc_sec is not None:  # truncate sequence\n",
    "        audio = audio[: int(JUKEBOX_SAMPLE_RATE * trunc_sec)]\n",
    "\n",
    "    audio = audio[:, :, None]  # add one more dimension on the end?\n",
    "    return audio\n",
    "\n",
    "\n",
    "def load_audio_for_jbx(path, offset=0.0, dur=None, trunc_sec=None, device=None):\n",
    "    \"\"\"Loads a path for use with Jukebox.\"\"\"\n",
    "    audio, sr = librosa.load(path, sr=None, offset=offset, duration=dur)\n",
    "\n",
    "    if JUKEBOX_SAMPLE_RATE is None: init_jukebox_sample_rate()\n",
    "\n",
    "    if sr != JUKEBOX_SAMPLE_RATE:\n",
    "        audio = librosa.resample(audio, sr, JUKEBOX_SAMPLE_RATE)\n",
    "\n",
    "    return audio_for_jbx(audio, trunc_sec, device=device)"
   ]
  },
  {
   "cell_type": "markdown",
   "id": "8870d4dd",
   "metadata": {},
   "source": [
    "## Icebox Encoder\n",
    "frozen Jukebox encoder for embeddings"
   ]
  },
  {
   "cell_type": "code",
   "execution_count": null,
   "id": "7cb9a0d5",
   "metadata": {},
   "outputs": [],
   "source": [
    "#export\n",
    "class IceBoxEncoder(nn.Module):\n",
    "    def __init__(self, global_args, device, port=9500):\n",
    "        super().__init__()\n",
    "\n",
    "        n_io_channels = 2\n",
    "        n_feature_channels = 8\n",
    "\n",
    "        # for making Jukebox work with multi-GPU runs\n",
    "        rank, local_rank, device = int(os.getenv('RANK')), int(os.getenv('LOCAL_RANK')), device\n",
    "\n",
    "        # torch.distributed info set at top-level training script\n",
    "        #dist_url = f\"tcp://127.0.0.1:{port}\"  # Note port may differ on different machines\n",
    "        #dist.init_process_group(backend=\"nccl\")\n",
    "\n",
    "        self.hps = Hyperparams()\n",
    "        assert global_args.sample_rate == 44100, \"Jukebox was pretrained at 44100 Hz.\"\n",
    "        self.hps.sr = global_args.sample_rate #44100\n",
    "        self.hps.levels = 3\n",
    "        self.hps.hop_fraction = [.5,.5,.125]\n",
    "\n",
    "        vqvae = \"vqvae\"\n",
    "        self.vqvae = make_vqvae(setup_hparams(vqvae, dict(sample_length = 1048576)), device)\n",
    "        for param in self.vqvae.parameters():  # FREEZE IT.  \"IceBox\"\n",
    "            param.requires_grad = False\n",
    "\n",
    "        self.encoder = self.vqvae.encode\n",
    "\n",
    "        latent_dim = 64 # global_args.latent_dim. Jukebox is 64\n",
    "        io_channels = 2#1 # 2.  Jukebox is mono but we decode in stereo\n",
    " \n",
    "    def encode(self, *args, **kwargs):\n",
    "        return self.encoder(*args, **kwargs)"
   ]
  },
  {
   "cell_type": "markdown",
   "id": "80da5eef",
   "metadata": {},
   "source": [
    "## Main execution "
   ]
  },
  {
   "cell_type": "code",
   "execution_count": null,
   "id": "5bc5fd64",
   "metadata": {},
   "outputs": [
    {
     "name": "stdout",
     "output_type": "stream",
     "text": [
      "device =  cuda\n",
      "accelerator =  <accelerate.accelerator.Accelerator object at 0x7fb99030c430>\n",
      "ac = {}\n"
     ]
    }
   ],
   "source": [
    "#|export\n",
    "def main():\n",
    "    accelerator = accelerate.Accelerator()\n",
    "    device = accelerator.device\n",
    "    print(\"device = \",device)\n",
    "    print(\"accelerator = \",accelerator)\n",
    "    ac = get_accel_config()\n",
    "    print(\"ac =\",ac)\n",
    "    \n",
    "if __name__ == '__main__':  \n",
    "    main() "
   ]
  },
  {
   "cell_type": "code",
   "execution_count": null,
   "id": "7bae18e4",
   "metadata": {},
   "outputs": [],
   "source": []
  }
 ],
 "metadata": {
  "kernelspec": {
   "display_name": "Python 3 (ipykernel)",
   "language": "python",
   "name": "python3"
  }
 },
 "nbformat": 4,
 "nbformat_minor": 5
}
